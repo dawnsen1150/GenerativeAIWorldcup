{
 "cells": [
  {
   "cell_type": "code",
   "execution_count": 0,
   "metadata": {
    "application/vnd.databricks.v1+cell": {
     "cellMetadata": {
      "byteLimit": 2048000,
      "rowLimit": 10000
     },
     "inputWidgets": {},
     "nuid": "23e190fa-2922-45e8-97e9-5ff696568ed1",
     "showTitle": false,
     "title": ""
    }
   },
   "outputs": [
    {
     "output_type": "stream",
     "name": "stdout",
     "output_type": "stream",
     "text": [
      "Collecting mlflow==2.14.3\n  Downloading mlflow-2.14.3-py3-none-any.whl (25.8 MB)\n     ━━━━━━━━━━━━━━━━━━━━━━━━━━━━━━━━━━━━━━━━ 25.8/25.8 MB 42.1 MB/s eta 0:00:00\nCollecting langchain==0.1.5\n  Downloading langchain-0.1.5-py3-none-any.whl (806 kB)\n     ━━━━━━━━━━━━━━━━━━━━━━━━━━━━━━━━━━━━━━ 806.7/806.7 kB 54.3 MB/s eta 0:00:00\nCollecting langdetect\n  Downloading langdetect-1.0.9.tar.gz (981 kB)\n     ━━━━━━━━━━━━━━━━━━━━━━━━━━━━━━━━━━━━━━ 981.5/981.5 kB 41.9 MB/s eta 0:00:00\n  Preparing metadata (setup.py): started\n  Preparing metadata (setup.py): finished with status 'done'\nCollecting databricks-vectorsearch==0.22\n  Downloading databricks_vectorsearch-0.22-py3-none-any.whl (8.5 kB)\nCollecting databricks-sdk==0.18.0\n  Downloading databricks_sdk-0.18.0-py3-none-any.whl (439 kB)\n     ━━━━━━━━━━━━━━━━━━━━━━━━━━━━━━━━━━━━━━ 439.5/439.5 kB 36.2 MB/s eta 0:00:00\nCollecting mlflow[databricks]\n  Downloading mlflow-2.17.2-py3-none-any.whl (26.7 MB)\n     ━━━━━━━━━━━━━━━━━━━━━━━━━━━━━━━━━━━━━━━━ 26.7/26.7 MB 51.8 MB/s eta 0:00:00\nRequirement already satisfied: packaging<25 in /databricks/python3/lib/python3.10/site-packages (from mlflow==2.14.3) (23.2)\nCollecting Flask<4\n  Downloading flask-3.0.3-py3-none-any.whl (101 kB)\n     ━━━━━━━━━━━━━━━━━━━━━━━━━━━━━━━━━━━━━━ 101.7/101.7 kB 26.2 MB/s eta 0:00:00\nCollecting opentelemetry-api<3,>=1.9.0\n  Downloading opentelemetry_api-1.27.0-py3-none-any.whl (63 kB)\n     ━━━━━━━━━━━━━━━━━━━━━━━━━━━━━━━━━━━━━━━━ 64.0/64.0 kB 5.5 MB/s eta 0:00:00\nCollecting querystring-parser<2\n  Downloading querystring_parser-1.2.4-py2.py3-none-any.whl (7.9 kB)\nRequirement already satisfied: Jinja2<4,>=2.11 in /databricks/python3/lib/python3.10/site-packages (from mlflow==2.14.3) (3.1.2)\nCollecting markdown<4,>=3.3\n  Downloading Markdown-3.7-py3-none-any.whl (106 kB)\n     ━━━━━━━━━━━━━━━━━━━━━━━━━━━━━━━━━━━━━━ 106.3/106.3 kB 49.6 MB/s eta 0:00:00\nRequirement already satisfied: pytz<2025 in /databricks/python3/lib/python3.10/site-packages (from mlflow==2.14.3) (2022.7)\nCollecting cloudpickle<4\n  Downloading cloudpickle-3.1.0-py3-none-any.whl (22 kB)\nRequirement already satisfied: scipy<2 in /databricks/python3/lib/python3.10/site-packages (from mlflow==2.14.3) (1.10.0)\nRequirement already satisfied: protobuf<5,>=3.12.0 in /databricks/python3/lib/python3.10/site-packages (from mlflow==2.14.3) (4.25.5)\nCollecting docker<8,>=4.0.0\n  Downloading docker-7.1.0-py3-none-any.whl (147 kB)\n     ━━━━━━━━━━━━━━━━━━━━━━━━━━━━━━━━━━━━━━ 147.8/147.8 kB 47.1 MB/s eta 0:00:00\nCollecting pyyaml<7,>=5.1\n  Downloading PyYAML-6.0.2-cp310-cp310-manylinux_2_17_x86_64.manylinux2014_x86_64.whl (751 kB)\n     ━━━━━━━━━━━━━━━━━━━━━━━━━━━━━━━━━━━━━ 751.2/751.2 kB 123.8 MB/s eta 0:00:00\nRequirement already satisfied: pyarrow<16,>=4.0.0 in /databricks/python3/lib/python3.10/site-packages (from mlflow==2.14.3) (8.0.0)\nCollecting alembic!=1.10.0,<2\n  Downloading alembic-1.13.3-py3-none-any.whl (233 kB)\n     ━━━━━━━━━━━━━━━━━━━━━━━━━━━━━━━━━━━━━━ 233.2/233.2 kB 64.9 MB/s eta 0:00:00\nRequirement already satisfied: entrypoints<1 in /databricks/python3/lib/python3.10/site-packages (from mlflow==2.14.3) (0.4)\nCollecting opentelemetry-sdk<3,>=1.9.0\n  Downloading opentelemetry_sdk-1.27.0-py3-none-any.whl (110 kB)\n     ━━━━━━━━━━━━━━━━━━━━━━━━━━━━━━━━━━━━━━ 110.5/110.5 kB 47.3 MB/s eta 0:00:00\nRequirement already satisfied: matplotlib<4 in /databricks/python3/lib/python3.10/site-packages (from mlflow==2.14.3) (3.7.0)\nRequirement already satisfied: numpy<2 in /databricks/python3/lib/python3.10/site-packages (from mlflow==2.14.3) (1.23.5)\nCollecting gunicorn<23\n  Downloading gunicorn-22.0.0-py3-none-any.whl (84 kB)\n     ━━━━━━━━━━━━━━━━━━━━━━━━━━━━━━━━━━━━━━━━ 84.4/84.4 kB 36.4 MB/s eta 0:00:00\nRequirement already satisfied: cachetools<6,>=5.0.0 in /databricks/python3/lib/python3.10/site-packages (from mlflow==2.14.3) (5.3.2)\nCollecting sqlalchemy<3,>=1.4.0\n  Downloading SQLAlchemy-2.0.36-cp310-cp310-manylinux_2_17_x86_64.manylinux2014_x86_64.whl (3.1 MB)\n     ━━━━━━━━━━━━━━━━━━━━━━━━━━━━━━━━━━━━━━━━ 3.1/3.1 MB 162.5 MB/s eta 0:00:00\nCollecting sqlparse<1,>=0.4.0\n  Downloading sqlparse-0.5.1-py3-none-any.whl (44 kB)\n     ━━━━━━━━━━━━━━━━━━━━━━━━━━━━━━━━━━━━━━━━ 44.2/44.2 kB 4.6 MB/s eta 0:00:00\nRequirement already satisfied: click<9,>=7.0 in /databricks/python3/lib/python3.10/site-packages (from mlflow==2.14.3) (8.0.4)\nRequirement already satisfied: requests<3,>=2.17.3 in /databricks/python3/lib/python3.10/site-packages (from mlflow==2.14.3) (2.28.1)\nCollecting graphene<4\n  Downloading graphene-3.4.1-py2.py3-none-any.whl (114 kB)\n     ━━━━━━━━━━━━━━━━━━━━━━━━━━━━━━━━━━━━━━ 114.7/114.7 kB 33.5 MB/s eta 0:00:00\nCollecting gitpython<4,>=3.1.9\n  Downloading GitPython-3.1.43-py3-none-any.whl (207 kB)\n     ━━━━━━━━━━━━━━━━━━━━━━━━━━━━━━━━━━━━━━ 207.3/207.3 kB 23.7 MB/s eta 0:00:00\nRequirement already satisfied: importlib-metadata!=4.7.0,<8,>=3.7.0 in /usr/lib/python3/dist-packages (from mlflow==2.14.3) (4.6.4)\nRequirement already satisfied: pandas<3 in /databricks/python3/lib/python3.10/site-packages (from mlflow==2.14.3) (1.5.3)\nRequirement already satisfied: scikit-learn<2 in /databricks/python3/lib/python3.10/site-packages (from mlflow==2.14.3) (1.1.1)\nCollecting aiohttp<4.0.0,>=3.8.3\n  Downloading aiohttp-3.10.10-cp310-cp310-manylinux_2_17_x86_64.manylinux2014_x86_64.whl (1.2 MB)\n     ━━━━━━━━━━━━━━━━━━━━━━━━━━━━━━━━━━━━━━━━ 1.2/1.2 MB 153.8 MB/s eta 0:00:00\nCollecting langsmith<0.1,>=0.0.83\n  Downloading langsmith-0.0.92-py3-none-any.whl (56 kB)\n     ━━━━━━━━━━━━━━━━━━━━━━━━━━━━━━━━━━━━━━━━ 56.5/56.5 kB 19.3 MB/s eta 0:00:00\nRequirement already satisfied: tenacity<9.0.0,>=8.1.0 in /databricks/python3/lib/python3.10/site-packages (from langchain==0.1.5) (8.1.0)\nRequirement already satisfied: pydantic<3,>=1 in /databricks/python3/lib/python3.10/site-packages (from langchain==0.1.5) (1.10.6)\nCollecting langchain-core<0.2,>=0.1.16\n  Downloading langchain_core-0.1.52-py3-none-any.whl (302 kB)\n     ━━━━━━━━━━━━━━━━━━━━━━━━━━━━━━━━━━━━━━ 302.9/302.9 kB 71.6 MB/s eta 0:00:00\nCollecting dataclasses-json<0.7,>=0.5.7\n  Downloading dataclasses_json-0.6.7-py3-none-any.whl (28 kB)\nCollecting langchain-community<0.1,>=0.0.17\n  Downloading langchain_community-0.0.38-py3-none-any.whl (2.0 MB)\n     ━━━━━━━━━━━━━━━━━━━━━━━━━━━━━━━━━━━━━━━━ 2.0/2.0 MB 114.5 MB/s eta 0:00:00\nCollecting async-timeout<5.0.0,>=4.0.0\n  Downloading async_timeout-4.0.3-py3-none-any.whl (5.7 kB)\nCollecting jsonpatch<2.0,>=1.33\n  Downloading jsonpatch-1.33-py2.py3-none-any.whl (12 kB)\nCollecting mlflow-skinny<3,>=2.4.0\n  Downloading mlflow_skinny-2.17.2-py3-none-any.whl (5.7 MB)\n     ━━━━━━━━━━━━━━━━━━━━━━━━━━━━━━━━━━━━━━━━ 5.7/5.7 MB 119.1 MB/s eta 0:00:00\nRequirement already satisfied: google-auth~=2.0 in /databricks/python3/lib/python3.10/site-packages (from databricks-sdk==0.18.0) (2.28.1)\nRequirement already satisfied: six in /usr/lib/python3/dist-packages (from langdetect) (1.16.0)\nCollecting mlflow[databricks]\n  Downloading mlflow-2.17.1-py3-none-any.whl (26.7 MB)\n     ━━━━━━━━━━━━━━━━━━━━━━━━━━━━━━━━━━━━━━━━ 26.7/26.7 MB 93.7 MB/s eta 0:00:00\n  Downloading mlflow-2.17.0-py3-none-any.whl (26.7 MB)\n     ━━━━━━━━━━━━━━━━━━━━━━━━━━━━━━━━━━━━━━━━ 26.7/26.7 MB 74.6 MB/s eta 0:00:00\n  Downloading mlflow-2.16.2-py3-none-any.whl (26.7 MB)\n     ━━━━━━━━━━━━━━━━━━━━━━━━━━━━━━━━━━━━━━━━ 26.7/26.7 MB 64.2 MB/s eta 0:00:00\n  Downloading mlflow-2.16.1-py3-none-any.whl (26.7 MB)\n     ━━━━━━━━━━━━━━━━━━━━━━━━━━━━━━━━━━━━━━━━ 26.7/26.7 MB 59.4 MB/s eta 0:00:00\n  Downloading mlflow-2.16.0-py3-none-any.whl (26.6 MB)\n     ━━━━━━━━━━━━━━━━━━━━━━━━━━━━━━━━━━━━━━━━ 26.6/26.6 MB 64.5 MB/s eta 0:00:00\n  Downloading mlflow-2.15.1-py3-none-any.whl (26.3 MB)\n     ━━━━━━━━━━━━━━━━━━━━━━━━━━━━━━━━━━━━━━━━ 26.3/26.3 MB 90.1 MB/s eta 0:00:00\n  Downloading mlflow-2.15.0-py3-none-any.whl (26.3 MB)\n     ━━━━━━━━━━━━━━━━━━━━━━━━━━━━━━━━━━━━━━━━ 26.3/26.3 MB 69.6 MB/s eta 0:00:00\nRequirement already satisfied: botocore in /databricks/python3/lib/python3.10/site-packages (from mlflow==2.14.3) (1.27.96)\nCollecting azure-storage-file-datalake>12\n  Downloading azure_storage_file_datalake-12.17.0-py3-none-any.whl (255 kB)\n     ━━━━━━━━━━━━━━━━━━━━━━━━━━━━━━━━━━━━━━ 255.7/255.7 kB 53.7 MB/s eta 0:00:00\nCollecting google-cloud-storage>=1.30.0\n  Downloading google_cloud_storage-2.18.2-py2.py3-none-any.whl (130 kB)\n     ━━━━━━━━━━━━━━━━━━━━━━━━━━━━━━━━━━━━━━ 130.5/130.5 kB 26.9 MB/s eta 0:00:00\nRequirement already satisfied: boto3>1 in /databricks/python3/lib/python3.10/site-packages (from mlflow==2.14.3) (1.24.28)\nRequirement already satisfied: attrs>=17.3.0 in /databricks/python3/lib/python3.10/site-packages (from aiohttp<4.0.0,>=3.8.3->langchain==0.1.5) (22.1.0)\nCollecting aiohappyeyeballs>=2.3.0\n  Downloading aiohappyeyeballs-2.4.3-py3-none-any.whl (14 kB)\nCollecting yarl<2.0,>=1.12.0\n  Downloading yarl-1.17.1-cp310-cp310-manylinux_2_17_x86_64.manylinux2014_x86_64.whl (318 kB)\n     ━━━━━━━━━━━━━━━━━━━━━━━━━━━━━━━━━━━━━━ 318.7/318.7 kB 82.5 MB/s eta 0:00:00\nCollecting multidict<7.0,>=4.5\n  Downloading multidict-6.1.0-cp310-cp310-manylinux_2_17_x86_64.manylinux2014_x86_64.whl (124 kB)\n     ━━━━━━━━━━━━━━━━━━━━━━━━━━━━━━━━━━━━━━ 124.6/124.6 kB 52.5 MB/s eta 0:00:00\nCollecting frozenlist>=1.1.1\n  Downloading frozenlist-1.5.0-cp310-cp310-manylinux_2_5_x86_64.manylinux1_x86_64.manylinux_2_17_x86_64.manylinux2014_x86_64.whl (241 kB)\n     ━━━━━━━━━━━━━━━━━━━━━━━━━━━━━━━━━━━━━━ 241.9/241.9 kB 78.8 MB/s eta 0:00:00\nCollecting aiosignal>=1.1.2\n  Downloading aiosignal-1.3.1-py3-none-any.whl (7.6 kB)\nRequirement already satisfied: typing-extensions>=4 in /databricks/python3/lib/python3.10/site-packages (from alembic!=1.10.0,<2->mlflow==2.14.3) (4.4.0)\nCollecting Mako\n  Downloading Mako-1.3.6-py3-none-any.whl (78 kB)\n     ━━━━━━━━━━━━━━━━━━━━━━━━━━━━━━━━━━━━━━━━ 78.6/78.6 kB 36.2 MB/s eta 0:00:00\nCollecting azure-storage-blob>=12.23.0\n  Downloading azure_storage_blob-12.23.1-py3-none-any.whl (405 kB)\n     ━━━━━━━━━━━━━━━━━━━━━━━━━━━━━━━━━━━━━ 405.6/405.6 kB 110.7 MB/s eta 0:00:00\nCollecting typing-extensions>=4\n  Downloading typing_extensions-4.12.2-py3-none-any.whl (37 kB)\nCollecting azure-core>=1.30.0\n  Downloading azure_core-1.32.0-py3-none-any.whl (198 kB)\n     ━━━━━━━━━━━━━━━━━━━━━━━━━━━━━━━━━━━━━━ 198.9/198.9 kB 71.5 MB/s eta 0:00:00\nCollecting isodate>=0.6.1\n  Downloading isodate-0.7.2-py3-none-any.whl (22 kB)\nRequirement already satisfied: jmespath<2.0.0,>=0.7.1 in /databricks/python3/lib/python3.10/site-packages (from boto3>1->mlflow==2.14.3) (0.10.0)\nRequirement already satisfied: s3transfer<0.7.0,>=0.6.0 in /databricks/python3/lib/python3.10/site-packages (from boto3>1->mlflow==2.14.3) (0.6.2)\nRequirement already satisfied: urllib3<1.27,>=1.25.4 in /databricks/python3/lib/python3.10/site-packages (from botocore->mlflow==2.14.3) (1.26.14)\nRequirement already satisfied: python-dateutil<3.0.0,>=2.1 in /databricks/python3/lib/python3.10/site-packages (from botocore->mlflow==2.14.3) (2.8.2)\nCollecting typing-inspect<1,>=0.4.0\n  Downloading typing_inspect-0.9.0-py3-none-any.whl (8.8 kB)\nCollecting marshmallow<4.0.0,>=3.18.0\n  Downloading marshmallow-3.23.0-py3-none-any.whl (49 kB)\n     ━━━━━━━━━━━━━━━━━━━━━━━━━━━━━━━━━━━━━━━━ 49.5/49.5 kB 11.0 MB/s eta 0:00:00\nCollecting blinker>=1.6.2\n  Downloading blinker-1.8.2-py3-none-any.whl (9.5 kB)\nCollecting click<9,>=7.0\n  Downloading click-8.1.7-py3-none-any.whl (97 kB)\n     ━━━━━━━━━━━━━━━━━━━━━━━━━━━━━━━━━━━━━━━━ 97.9/97.9 kB 37.3 MB/s eta 0:00:00\nCollecting itsdangerous>=2.1.2\n  Downloading itsdangerous-2.2.0-py3-none-any.whl (16 kB)\nCollecting Werkzeug>=3.0.0\n  Downloading werkzeug-3.1.0-py3-none-any.whl (224 kB)\n     ━━━━━━━━━━━━━━━━━━━━━━━━━━━━━━━━━━━━━━ 224.4/224.4 kB 85.2 MB/s eta 0:00:00\nCollecting gitdb<5,>=4.0.1\n  Downloading gitdb-4.0.11-py3-none-any.whl (62 kB)\n     ━━━━━━━━━━━━━━━━━━━━━━━━━━━━━━━━━━━━━━━━ 62.7/62.7 kB 21.1 MB/s eta 0:00:00\nRequirement already satisfied: rsa<5,>=3.1.4 in /databricks/python3/lib/python3.10/site-packages (from google-auth~=2.0->databricks-sdk==0.18.0) (4.9)\nRequirement already satisfied: pyasn1-modules>=0.2.1 in /databricks/python3/lib/python3.10/site-packages (from google-auth~=2.0->databricks-sdk==0.18.0) (0.3.0)\nCollecting google-cloud-core<3.0dev,>=2.3.0\n  Downloading google_cloud_core-2.4.1-py2.py3-none-any.whl (29 kB)\nCollecting google-crc32c<2.0dev,>=1.0\n  Downloading google_crc32c-1.6.0-cp310-cp310-manylinux_2_17_x86_64.manylinux2014_x86_64.whl (37 kB)\nCollecting google-resumable-media>=2.7.2\n  Downloading google_resumable_media-2.7.2-py2.py3-none-any.whl (81 kB)\n     ━━━━━━━━━━━━━━━━━━━━━━━━━━━━━━━━━━━━━━━━ 81.3/81.3 kB 16.6 MB/s eta 0:00:00\nCollecting google-api-core<3.0.0dev,>=2.15.0\n  Downloading google_api_core-2.22.0-py3-none-any.whl (156 kB)\n     ━━━━━━━━━━━━━━━━━━━━━━━━━━━━━━━━━━━━━━ 156.5/156.5 kB 50.5 MB/s eta 0:00:00\nCollecting graphql-core<3.3,>=3.1\n  Downloading graphql_core-3.2.5-py3-none-any.whl (203 kB)\n     ━━━━━━━━━━━━━━━━━━━━━━━━━━━━━━━━━━━━━━ 203.2/203.2 kB 74.1 MB/s eta 0:00:00\nCollecting graphql-relay<3.3,>=3.1\n  Downloading graphql_relay-3.2.0-py3-none-any.whl (16 kB)\nRequirement already satisfied: MarkupSafe>=2.0 in /databricks/python3/lib/python3.10/site-packages (from Jinja2<4,>=2.11->mlflow==2.14.3) (2.1.1)\nCollecting jsonpointer>=1.9\n  Downloading jsonpointer-3.0.0-py2.py3-none-any.whl (7.6 kB)\nCollecting langchain-community<0.1,>=0.0.17\n  Downloading langchain_community-0.0.37-py3-none-any.whl (2.0 MB)\n     ━━━━━━━━━━━━━━━━━━━━━━━━━━━━━━━━━━━━━━━━ 2.0/2.0 MB 126.4 MB/s eta 0:00:00\n  Downloading langchain_community-0.0.36-py3-none-any.whl (2.0 MB)\n     ━━━━━━━━━━━━━━━━━━━━━━━━━━━━━━━━━━━━━━━━ 2.0/2.0 MB 145.5 MB/s eta 0:00:00\n  Downloading langchain_community-0.0.35-py3-none-any.whl (2.0 MB)\n     ━━━━━━━━━━━━━━━━━━━━━━━━━━━━━━━━━━━━━━━━ 2.0/2.0 MB 104.8 MB/s eta 0:00:00\n  Downloading langchain_community-0.0.34-py3-none-any.whl (1.9 MB)\n     ━━━━━━━━━━━━━━━━━━━━━━━━━━━━━━━━━━━━━━━━ 1.9/1.9 MB 117.7 MB/s eta 0:00:00\n  Downloading langchain_community-0.0.33-py3-none-any.whl (1.9 MB)\n     ━━━━━━━━━━━━━━━━━━━━━━━━━━━━━━━━━━━━━━━━ 1.9/1.9 MB 162.8 MB/s eta 0:00:00\n  Downloading langchain_community-0.0.32-py3-none-any.whl (1.9 MB)\n     ━━━━━━━━━━━━━━━━━━━━━━━━━━━━━━━━━━━━━━━━ 1.9/1.9 MB 161.6 MB/s eta 0:00:00\n  Downloading langchain_community-0.0.31-py3-none-any.whl (1.9 MB)\n     ━━━━━━━━━━━━━━━━━━━━━━━━━━━━━━━━━━━━━━━━ 1.9/1.9 MB 84.4 MB/s eta 0:00:00\n  Downloading langchain_community-0.0.30-py3-none-any.whl (1.9 MB)\n     ━━━━━━━━━━━━━━━━━━━━━━━━━━━━━━━━━━━━━━━━ 1.9/1.9 MB 126.0 MB/s eta 0:00:00\n  Downloading langchain_community-0.0.29-py3-none-any.whl (1.8 MB)\n     ━━━━━━━━━━━━━━━━━━━━━━━━━━━━━━━━━━━━━━━━ 1.8/1.8 MB 139.5 MB/s eta 0:00:00\n  Downloading langchain_community-0.0.28-py3-none-any.whl (1.8 MB)\n     ━━━━━━━━━━━━━━━━━━━━━━━━━━━━━━━━━━━━━━━━ 1.8/1.8 MB 106.2 MB/s eta 0:00:00\n  Downloading langchain_community-0.0.27-py3-none-any.whl (1.8 MB)\n     ━━━━━━━━━━━━━━━━━━━━━━━━━━━━━━━━━━━━━━━━ 1.8/1.8 MB 133.6 MB/s eta 0:00:00\n  Downloading langchain_community-0.0.26-py3-none-any.whl (1.8 MB)\n     ━━━━━━━━━━━━━━━━━━━━━━━━━━━━━━━━━━━━━━━━ 1.8/1.8 MB 112.2 MB/s eta 0:00:00\n  Downloading langchain_community-0.0.25-py3-none-any.whl (1.8 MB)\n     ━━━━━━━━━━━━━━━━━━━━━━━━━━━━━━━━━━━━━━━━ 1.8/1.8 MB 99.6 MB/s eta 0:00:00\n  Downloading langchain_community-0.0.24-py3-none-any.whl (1.7 MB)\n     ━━━━━━━━━━━━━━━━━━━━━━━━━━━━━━━━━━━━━━━━ 1.7/1.7 MB 137.3 MB/s eta 0:00:00\n  Downloading langchain_community-0.0.23-py3-none-any.whl (1.7 MB)\n     ━━━━━━━━━━━━━━━━━━━━━━━━━━━━━━━━━━━━━━━━ 1.7/1.7 MB 160.9 MB/s eta 0:00:00\n  Downloading langchain_community-0.0.22-py3-none-any.whl (1.7 MB)\n     ━━━━━━━━━━━━━━━━━━━━━━━━━━━━━━━━━━━━━━━━ 1.7/1.7 MB 89.5 MB/s eta 0:00:00\n  Downloading langchain_community-0.0.21-py3-none-any.whl (1.7 MB)\n     ━━━━━━━━━━━━━━━━━━━━━━━━━━━━━━━━━━━━━━━━ 1.7/1.7 MB 28.0 MB/s eta 0:00:00\n  Downloading langchain_community-0.0.20-py3-none-any.whl (1.7 MB)\n     ━━━━━━━━━━━━━━━━━━━━━━━━━━━━━━━━━━━━━━━━ 1.7/1.7 MB 107.3 MB/s eta 0:00:00\nCollecting langchain-core<0.2,>=0.1.16\n  Downloading langchain_core-0.1.51-py3-none-any.whl (302 kB)\n     ━━━━━━━━━━━━━━━━━━━━━━━━━━━━━━━━━━━━━━ 302.9/302.9 kB 85.8 MB/s eta 0:00:00\n  Downloading langchain_core-0.1.50-py3-none-any.whl (302 kB)\n     ━━━━━━━━━━━━━━━━━━━━━━━━━━━━━━━━━━━━━━ 302.8/302.8 kB 69.3 MB/s eta 0:00:00\n  Downloading langchain_core-0.1.49-py3-none-any.whl (303 kB)\n     ━━━━━━━━━━━━━━━━━━━━━━━━━━━━━━━━━━━━━━ 303.0/303.0 kB 56.6 MB/s eta 0:00:00\n  Downloading langchain_core-0.1.48-py3-none-any.whl (302 kB)\n     ━━━━━━━━━━━━━━━━━━━━━━━━━━━━━━━━━━━━━━ 302.9/302.9 kB 55.9 MB/s eta 0:00:00\n  Downloading langchain_core-0.1.47-py3-none-any.whl (302 kB)\n     ━━━━━━━━━━━━━━━━━━━━━━━━━━━━━━━━━━━━━━ 302.2/302.2 kB 24.3 MB/s eta 0:00:00\n  Downloading langchain_core-0.1.46-py3-none-any.whl (299 kB)\n     ━━━━━━━━━━━━━━━━━━━━━━━━━━━━━━━━━━━━━━ 299.3/299.3 kB 53.5 MB/s eta 0:00:00\n  Downloading langchain_core-0.1.45-py3-none-any.whl (291 kB)\n     ━━━━━━━━━━━━━━━━━━━━━━━━━━━━━━━━━━━━━━ 291.3/291.3 kB 32.5 MB/s eta 0:00:00\n  Downloading langchain_core-0.1.44-py3-none-any.whl (290 kB)\n     ━━━━━━━━━━━━━━━━━━━━━━━━━━━━━━━━━━━━━━ 290.2/290.2 kB 29.4 MB/s eta 0:00:00\n  Downloading langchain_core-0.1.43-py3-none-any.whl (289 kB)\n     ━━━━━━━━━━━━━━━━━━━━━━━━━━━━━━━━━━━━━━ 289.1/289.1 kB 68.1 MB/s eta 0:00:00\n  Downloading langchain_core-0.1.42-py3-none-any.whl (287 kB)\n     ━━━━━━━━━━━━━━━━━━━━━━━━━━━━━━━━━━━━━━ 287.5/287.5 kB 70.1 MB/s eta 0:00:00\n  Downloading langchain_core-0.1.41-py3-none-any.whl (278 kB)\n     ━━━━━━━━━━━━━━━━━━━━━━━━━━━━━━━━━━━━━━ 278.4/278.4 kB 30.8 MB/s eta 0:00:00\n  Downloading langchain_core-0.1.40-py3-none-any.whl (276 kB)\n     ━━━━━━━━━━━━━━━━━━━━━━━━━━━━━━━━━━━━━━ 276.8/276.8 kB 32.8 MB/s eta 0:00:00\n  Downloading langchain_core-0.1.39-py3-none-any.whl (276 kB)\n     ━━━━━━━━━━━━━━━━━━━━━━━━━━━━━━━━━━━━━━ 276.6/276.6 kB 41.3 MB/s eta 0:00:00\n  Downloading langchain_core-0.1.38-py3-none-any.whl (279 kB)\n     ━━━━━━━━━━━━━━━━━━━━━━━━━━━━━━━━━━━━━━ 279.2/279.2 kB 70.6 MB/s eta 0:00:00\n  Downloading langchain_core-0.1.37-py3-none-any.whl (274 kB)\n     ━━━━━━━━━━━━━━━━━━━━━━━━━━━━━━━━━━━━━━ 274.6/274.6 kB 90.3 MB/s eta 0:00:00\n  Downloading langchain_core-0.1.36-py3-none-any.whl (273 kB)\n     ━━━━━━━━━━━━━━━━━━━━━━━━━━━━━━━━━━━━━━ 273.9/273.9 kB 67.7 MB/s eta 0:00:00\n  Downloading langchain_core-0.1.35-py3-none-any.whl (273 kB)\n     ━━━━━━━━━━━━━━━━━━━━━━━━━━━━━━━━━━━━━━ 273.0/273.0 kB 83.5 MB/s eta 0:00:00\n  Downloading langchain_core-0.1.34-py3-none-any.whl (271 kB)\n     ━━━━━━━━━━━━━━━━━━━━━━━━━━━━━━━━━━━━━━ 271.6/271.6 kB 85.5 MB/s eta 0:00:00\n  Downloading langchain_core-0.1.33-py3-none-any.whl (269 kB)\n     ━━━━━━━━━━━━━━━━━━━━━━━━━━━━━━━━━━━━━━ 269.1/269.1 kB 85.8 MB/s eta 0:00:00\n  Downloading langchain_core-0.1.32-py3-none-any.whl (260 kB)\n     ━━━━━━━━━━━━━━━━━━━━━━━━━━━━━━━━━━━━━━ 260.9/260.9 kB 95.5 MB/s eta 0:00:00\n  Downloading langchain_core-0.1.31-py3-none-any.whl (258 kB)\n     ━━━━━━━━━━━━━━━━━━━━━━━━━━━━━━━━━━━━━━ 258.8/258.8 kB 85.7 MB/s eta 0:00:00\n  Downloading langchain_core-0.1.30-py3-none-any.whl (256 kB)\n     ━━━━━━━━━━━━━━━━━━━━━━━━━━━━━━━━━━━━━━ 256.9/256.9 kB 89.1 MB/s eta 0:00:00\n  Downloading langchain_core-0.1.29-py3-none-any.whl (252 kB)\n     ━━━━━━━━━━━━━━━━━━━━━━━━━━━━━━━━━━━━━━ 252.6/252.6 kB 43.3 MB/s eta 0:00:00\n  Downloading langchain_core-0.1.28-py3-none-any.whl (252 kB)\n     ━━━━━━━━━━━━━━━━━━━━━━━━━━━━━━━━━━━━━━ 252.4/252.4 kB 59.9 MB/s eta 0:00:00\n  Downloading langchain_core-0.1.27-py3-none-any.whl (250 kB)\n     ━━━━━━━━━━━━━━━━━━━━━━━━━━━━━━━━━━━━━━ 250.8/250.8 kB 85.9 MB/s eta 0:00:00\n  Downloading langchain_core-0.1.26-py3-none-any.whl (246 kB)\n     ━━━━━━━━━━━━━━━━━━━━━━━━━━━━━━━━━━━━━━ 246.4/246.4 kB 84.6 MB/s eta 0:00:00\n  Downloading langchain_core-0.1.25-py3-none-any.whl (242 kB)\n     ━━━━━━━━━━━━━━━━━━━━━━━━━━━━━━━━━━━━━━ 242.1/242.1 kB 74.9 MB/s eta 0:00:00\n  Downloading langchain_core-0.1.24-py3-none-any.whl (241 kB)\n     ━━━━━━━━━━━━━━━━━━━━━━━━━━━━━━━━━━━━━━ 241.3/241.3 kB 72.2 MB/s eta 0:00:00\n  Downloading langchain_core-0.1.23-py3-none-any.whl (241 kB)\n     ━━━━━━━━━━━━━━━━━━━━━━━━━━━━━━━━━━━━━━ 241.2/241.2 kB 34.0 MB/s eta 0:00:00\nCollecting langsmith<0.1,>=0.0.83\n  Downloading langsmith-0.0.87-py3-none-any.whl (55 kB)\n     ━━━━━━━━━━━━━━━━━━━━━━━━━━━━━━━━━━━━━━━━ 55.4/55.4 kB 22.4 MB/s eta 0:00:00\nRequirement already satisfied: anyio<5,>=3 in /databricks/python3/lib/python3.10/site-packages (from langchain-core<0.2,>=0.1.16->langchain==0.1.5) (3.5.0)\nRequirement already satisfied: kiwisolver>=1.0.1 in /databricks/python3/lib/python3.10/site-packages (from matplotlib<4->mlflow==2.14.3) (1.4.4)\nRequirement already satisfied: fonttools>=4.22.0 in /databricks/python3/lib/python3.10/site-packages (from matplotlib<4->mlflow==2.14.3) (4.25.0)\nRequirement already satisfied: contourpy>=1.0.1 in /databricks/python3/lib/python3.10/site-packages (from matplotlib<4->mlflow==2.14.3) (1.0.5)\nRequirement already satisfied: cycler>=0.10 in /databricks/python3/lib/python3.10/site-packages (from matplotlib<4->mlflow==2.14.3) (0.11.0)\nRequirement already satisfied: pyparsing>=2.3.1 in /databricks/python3/lib/python3.10/site-packages (from matplotlib<4->mlflow==2.14.3) (3.0.9)\nRequirement already satisfied: pillow>=6.2.0 in /databricks/python3/lib/python3.10/site-packages (from matplotlib<4->mlflow==2.14.3) (9.4.0)\nCollecting mlflow-skinny<3,>=2.4.0\n  Downloading mlflow_skinny-2.17.1-py3-none-any.whl (5.7 MB)\n     ━━━━━━━━━━━━━━━━━━━━━━━━━━━━━━━━━━━━━━━━ 5.7/5.7 MB 136.0 MB/s eta 0:00:00\n  Downloading mlflow_skinny-2.17.0-py3-none-any.whl (5.7 MB)\n     ━━━━━━━━━━━━━━━━━━━━━━━━━━━━━━━━━━━━━━━━ 5.7/5.7 MB 116.5 MB/s eta 0:00:00\n  Downloading mlflow_skinny-2.16.2-py3-none-any.whl (5.6 MB)\n     ━━━━━━━━━━━━━━━━━━━━━━━━━━━━━━━━━━━━━━━━ 5.6/5.6 MB 153.7 MB/s eta 0:00:00\n  Downloading mlflow_skinny-2.16.1-py3-none-any.whl (5.6 MB)\n     ━━━━━━━━━━━━━━━━━━━━━━━━━━━━━━━━━━━━━━━━ 5.6/5.6 MB 145.2 MB/s eta 0:00:00\n  Downloading mlflow_skinny-2.16.0-py3-none-any.whl (5.6 MB)\n     ━━━━━━━━━━━━━━━━━━━━━━━━━━━━━━━━━━━━━━━━ 5.6/5.6 MB 51.5 MB/s eta 0:00:00\n  Downloading mlflow_skinny-2.15.1-py3-none-any.whl (5.5 MB)\n     ━━━━━━━━━━━━━━━━━━━━━━━━━━━━━━━━━━━━━━━━ 5.5/5.5 MB 139.2 MB/s eta 0:00:00\n  Downloading mlflow_skinny-2.15.0-py3-none-any.whl (5.5 MB)\n     ━━━━━━━━━━━━━━━━━━━━━━━━━━━━━━━━━━━━━━━━ 5.5/5.5 MB 120.5 MB/s eta 0:00:00\n  Downloading mlflow_skinny-2.14.3-py3-none-any.whl (5.3 MB)\n     ━━━━━━━━━━━━━━━━━━━━━━━━━━━━━━━━━━━━━━━━ 5.3/5.3 MB 86.8 MB/s eta 0:00:00\nCollecting importlib-metadata!=4.7.0,<8,>=3.7.0\n  Downloading importlib_metadata-7.2.1-py3-none-any.whl (25 kB)\nCollecting deprecated>=1.2.6\n  Downloading Deprecated-1.2.14-py2.py3-none-any.whl (9.6 kB)\nRequirement already satisfied: zipp>=0.5 in /usr/lib/python3/dist-packages (from importlib-metadata!=4.7.0,<8,>=3.7.0->mlflow==2.14.3) (1.0.0)\nCollecting opentelemetry-semantic-conventions==0.48b0\n  Downloading opentelemetry_semantic_conventions-0.48b0-py3-none-any.whl (149 kB)\n     ━━━━━━━━━━━━━━━━━━━━━━━━━━━━━━━━━━━━━━ 149.7/149.7 kB 56.1 MB/s eta 0:00:00\nRequirement already satisfied: idna<4,>=2.5 in /databricks/python3/lib/python3.10/site-packages (from requests<3,>=2.17.3->mlflow==2.14.3) (3.4)\nRequirement already satisfied: certifi>=2017.4.17 in /databricks/python3/lib/python3.10/site-packages (from requests<3,>=2.17.3->mlflow==2.14.3) (2022.12.7)\nRequirement already satisfied: charset-normalizer<3,>=2 in /databricks/python3/lib/python3.10/site-packages (from requests<3,>=2.17.3->mlflow==2.14.3) (2.0.4)\nRequirement already satisfied: threadpoolctl>=2.0.0 in /databricks/python3/lib/python3.10/site-packages (from scikit-learn<2->mlflow==2.14.3) (2.2.0)\nRequirement already satisfied: joblib>=1.0.0 in /databricks/python3/lib/python3.10/site-packages (from scikit-learn<2->mlflow==2.14.3) (1.2.0)\nCollecting greenlet!=0.4.17\n  Downloading greenlet-3.1.1-cp310-cp310-manylinux_2_24_x86_64.manylinux_2_28_x86_64.whl (599 kB)\n     ━━━━━━━━━━━━━━━━━━━━━━━━━━━━━━━━━━━━━ 599.5/599.5 kB 117.8 MB/s eta 0:00:00\nRequirement already satisfied: sniffio>=1.1 in /databricks/python3/lib/python3.10/site-packages (from anyio<5,>=3->langchain-core<0.2,>=0.1.16->langchain==0.1.5) (1.2.0)\nRequirement already satisfied: cryptography>=2.1.4 in /databricks/python3/lib/python3.10/site-packages (from azure-storage-blob>=12.23.0->azure-storage-file-datalake>12->mlflow==2.14.3) (39.0.1)\nCollecting wrapt<2,>=1.10\n  Downloading wrapt-1.16.0-cp310-cp310-manylinux_2_5_x86_64.manylinux1_x86_64.manylinux_2_17_x86_64.manylinux2014_x86_64.whl (80 kB)\n     ━━━━━━━━━━━━━━━━━━━━━━━━━━━━━━━━━━━━━━━━ 80.3/80.3 kB 28.8 MB/s eta 0:00:00\nCollecting smmap<6,>=3.0.1\n  Downloading smmap-5.0.1-py3-none-any.whl (24 kB)\nRequirement already satisfied: googleapis-common-protos<2.0.dev0,>=1.56.2 in /databricks/python3/lib/python3.10/site-packages (from google-api-core<3.0.0dev,>=2.15.0->google-cloud-storage>=1.30.0->mlflow==2.14.3) (1.62.0)\nCollecting proto-plus<2.0.0dev,>=1.22.3\n  Downloading proto_plus-1.25.0-py3-none-any.whl (50 kB)\n     ━━━━━━━━━━━━━━━━━━━━━━━━━━━━━━━━━━━━━━━━ 50.1/50.1 kB 16.5 MB/s eta 0:00:00\nRequirement already satisfied: pyasn1<0.6.0,>=0.4.6 in /databricks/python3/lib/python3.10/site-packages (from pyasn1-modules>=0.2.1->google-auth~=2.0->databricks-sdk==0.18.0) (0.5.1)\nRequirement already satisfied: mypy-extensions>=0.3.0 in /databricks/python3/lib/python3.10/site-packages (from typing-inspect<1,>=0.4.0->dataclasses-json<0.7,>=0.5.7->langchain==0.1.5) (0.4.3)\nCollecting propcache>=0.2.0\n  Downloading propcache-0.2.0-cp310-cp310-manylinux_2_17_x86_64.manylinux2014_x86_64.whl (208 kB)\n     ━━━━━━━━━━━━━━━━━━━━━━━━━━━━━━━━━━━━━━ 208.9/208.9 kB 82.6 MB/s eta 0:00:00\nRequirement already satisfied: cffi>=1.12 in /databricks/python3/lib/python3.10/site-packages (from cryptography>=2.1.4->azure-storage-blob>=12.23.0->azure-storage-file-datalake>12->mlflow==2.14.3) (1.15.1)\nRequirement already satisfied: pycparser in /databricks/python3/lib/python3.10/site-packages (from cffi>=1.12->cryptography>=2.1.4->azure-storage-blob>=12.23.0->azure-storage-file-datalake>12->mlflow==2.14.3) (2.21)\nBuilding wheels for collected packages: langdetect\n  Building wheel for langdetect (setup.py): started\n  Building wheel for langdetect (setup.py): finished with status 'done'\n  Created wheel for langdetect: filename=langdetect-1.0.9-py3-none-any.whl size=993225 sha256=d056c7ebfa8c36075c4cf2215345f0a18743f27e1272a6e75085c053338ec02e\n  Stored in directory: /home/spark-67ceda95-04d4-4eee-8321-51/.cache/pip/wheels/c4/16/af/1889804d8b7c0c041cadee8e29673a938a332acbf2865c70a1\nSuccessfully built langdetect\nInstalling collected packages: wrapt, Werkzeug, typing-extensions, sqlparse, smmap, querystring-parser, pyyaml, proto-plus, propcache, marshmallow, markdown, Mako, langdetect, jsonpointer, itsdangerous, isodate, importlib-metadata, gunicorn, greenlet, graphql-core, google-crc32c, frozenlist, cloudpickle, click, blinker, async-timeout, aiohappyeyeballs, typing-inspect, sqlalchemy, multidict, jsonpatch, graphql-relay, google-resumable-media, gitdb, Flask, docker, deprecated, azure-core, aiosignal, yarl, opentelemetry-api, langsmith, graphene, google-api-core, gitpython, dataclasses-json, databricks-sdk, azure-storage-blob, alembic, opentelemetry-semantic-conventions, langchain-core, google-cloud-core, azure-storage-file-datalake, aiohttp, opentelemetry-sdk, langchain-community, google-cloud-storage, mlflow-skinny, mlflow, langchain, databricks-vectorsearch\n  Attempting uninstall: typing-extensions\n    Found existing installation: typing_extensions 4.4.0\n    Not uninstalling typing-extensions at /databricks/python3/lib/python3.10/site-packages, outside environment /local_disk0/.ephemeral_nfs/envs/pythonEnv-67ceda95-04d4-4eee-8321-51257e1ba1c6\n    Can't uninstall 'typing_extensions'. No files were found to uninstall.\n  Attempting uninstall: importlib-metadata\n    Found existing installation: importlib-metadata 4.6.4\n    Not uninstalling importlib-metadata at /usr/lib/python3/dist-packages, outside environment /local_disk0/.ephemeral_nfs/envs/pythonEnv-67ceda95-04d4-4eee-8321-51257e1ba1c6\n    Can't uninstall 'importlib-metadata'. No files were found to uninstall.\n  Attempting uninstall: click\n    Found existing installation: click 8.0.4\n    Not uninstalling click at /databricks/python3/lib/python3.10/site-packages, outside environment /local_disk0/.ephemeral_nfs/envs/pythonEnv-67ceda95-04d4-4eee-8321-51257e1ba1c6\n    Can't uninstall 'click'. No files were found to uninstall.\n  Attempting uninstall: blinker\n    Found existing installation: blinker 1.4\n    Not uninstalling blinker at /usr/lib/python3/dist-packages, outside environment /local_disk0/.ephemeral_nfs/envs/pythonEnv-67ceda95-04d4-4eee-8321-51257e1ba1c6\n    Can't uninstall 'blinker'. No files were found to uninstall.\n  Attempting uninstall: databricks-sdk\n    Found existing installation: databricks-sdk 0.20.0\n    Not uninstalling databricks-sdk at /databricks/python3/lib/python3.10/site-packages, outside environment /local_disk0/.ephemeral_nfs/envs/pythonEnv-67ceda95-04d4-4eee-8321-51257e1ba1c6\n    Can't uninstall 'databricks-sdk'. No files were found to uninstall.\nSuccessfully installed Flask-3.0.3 Mako-1.3.6 Werkzeug-3.1.0 aiohappyeyeballs-2.4.3 aiohttp-3.10.10 aiosignal-1.3.1 alembic-1.13.3 async-timeout-4.0.3 azure-core-1.32.0 azure-storage-blob-12.23.1 azure-storage-file-datalake-12.17.0 blinker-1.8.2 click-8.1.7 cloudpickle-3.1.0 databricks-sdk-0.18.0 databricks-vectorsearch-0.22 dataclasses-json-0.6.7 deprecated-1.2.14 docker-7.1.0 frozenlist-1.5.0 gitdb-4.0.11 gitpython-3.1.43 google-api-core-2.22.0 google-cloud-core-2.4.1 google-cloud-storage-2.18.2 google-crc32c-1.6.0 google-resumable-media-2.7.2 graphene-3.4.1 graphql-core-3.2.5 graphql-relay-3.2.0 greenlet-3.1.1 gunicorn-22.0.0 importlib-metadata-7.2.1 isodate-0.7.2 itsdangerous-2.2.0 jsonpatch-1.33 jsonpointer-3.0.0 langchain-0.1.5 langchain-community-0.0.20 langchain-core-0.1.23 langdetect-1.0.9 langsmith-0.0.87 markdown-3.7 marshmallow-3.23.0 mlflow-2.14.3 mlflow-skinny-2.14.3 multidict-6.1.0 opentelemetry-api-1.27.0 opentelemetry-sdk-1.27.0 opentelemetry-semantic-conventions-0.48b0 propcache-0.2.0 proto-plus-1.25.0 pyyaml-6.0.2 querystring-parser-1.2.4 smmap-5.0.1 sqlalchemy-2.0.36 sqlparse-0.5.1 typing-extensions-4.12.2 typing-inspect-0.9.0 wrapt-1.16.0 yarl-1.17.1\n\u001B[43mNote: you may need to restart the kernel using %restart_python or dbutils.library.restartPython() to use updated packages.\u001B[0m\n"
     ]
    }
   ],
   "source": [
    "%pip install mlflow==2.14.3 langchain==0.1.5 langdetect databricks-vectorsearch==0.22 databricks-sdk==0.18.0 mlflow[databricks]\n",
    "dbutils.library.restartPython()"
   ]
  },
  {
   "cell_type": "code",
   "execution_count": 0,
   "metadata": {
    "application/vnd.databricks.v1+cell": {
     "cellMetadata": {
      "byteLimit": 2048000,
      "rowLimit": 10000
     },
     "inputWidgets": {},
     "nuid": "96c1d573-2036-4ce9-b054-465f49904f46",
     "showTitle": false,
     "title": ""
    }
   },
   "outputs": [],
   "source": [
    "import os\n",
    "from langdetect import detect\n",
    "from databricks.vector_search.client import VectorSearchClient\n",
    "from langchain_community.vectorstores import DatabricksVectorSearch\n",
    "from langchain_community.embeddings import DatabricksEmbeddings\n",
    "from langchain.chains import RetrievalQA\n",
    "from langchain.prompts import PromptTemplate\n",
    "from langchain_community.chat_models import ChatDatabricks"
   ]
  },
  {
   "cell_type": "markdown",
   "metadata": {
    "application/vnd.databricks.v1+cell": {
     "cellMetadata": {},
     "inputWidgets": {},
     "nuid": "71604184-dc94-48f7-af8f-9aced96500e4",
     "showTitle": false,
     "title": ""
    }
   },
   "source": [
    "##### Retrieve Vector Search"
   ]
  },
  {
   "cell_type": "code",
   "execution_count": 0,
   "metadata": {
    "application/vnd.databricks.v1+cell": {
     "cellMetadata": {
      "byteLimit": 2048000,
      "rowLimit": 10000
     },
     "inputWidgets": {},
     "nuid": "2a4130ea-48ea-4efb-a1c3-c4e3957f2560",
     "showTitle": false,
     "title": ""
    }
   },
   "outputs": [],
   "source": [
    "embedding_model = DatabricksEmbeddings(endpoint=\"databricks-bge-large-en\")\n",
    "\n",
    "def get_retriever(persist_dir: str = None):\n",
    "    workspace_url = os.environ.get(\"WORKSPACE_URL\")\n",
    "    sp_client_id = os.environ.get(\"SP_CLIENT_ID\")\n",
    "    sp_client_secret = os.environ.get(\"SP_CLIENT_SECRET\")\n",
    "\n",
    "    vsc = VectorSearchClient(\n",
    "        workspace_url=workspace_url,\n",
    "        service_principal_client_id=sp_client_id,\n",
    "        service_principal_client_secret=sp_client_secret,\n",
    "        disable_notice= True\n",
    "    )\n",
    "\n",
    "    vs_index = vsc.get_index(endpoint_name=\"doc_vector_endpoint\", index_name=\"datascience_dev.default.docs_idx\")\n",
    "\n",
    "    # Create the retriever\n",
    "    vectorstore = DatabricksVectorSearch(\n",
    "        vs_index, text_column=\"text\", embedding=embedding_model\n",
    "    )\n",
    "    return vectorstore.as_retriever()"
   ]
  },
  {
   "cell_type": "markdown",
   "metadata": {
    "application/vnd.databricks.v1+cell": {
     "cellMetadata": {},
     "inputWidgets": {},
     "nuid": "142ed4b8-372c-4a68-bf13-ffe8c86bbb2b",
     "showTitle": false,
     "title": ""
    }
   },
   "source": [
    "##### Function to detect language"
   ]
  },
  {
   "cell_type": "code",
   "execution_count": 0,
   "metadata": {
    "application/vnd.databricks.v1+cell": {
     "cellMetadata": {
      "byteLimit": 2048000,
      "rowLimit": 10000
     },
     "inputWidgets": {},
     "nuid": "099acb7e-3d0d-4f3b-93c4-61575779b929",
     "showTitle": false,
     "title": ""
    }
   },
   "outputs": [],
   "source": [
    "def get_language_name(question):\n",
    "    lang_code= detect(question)\n",
    "\n",
    "    language_map = {\n",
    "        'es': 'Spanish',\n",
    "        'en': 'English',\n",
    "        'vi': 'Vietnamese',\n",
    "        'fr': 'French',\n",
    "        'de': 'German',\n",
    "        # Add more languages as needed\n",
    "    }\n",
    "    return language_map.get(lang_code, 'Unknown')"
   ]
  },
  {
   "cell_type": "markdown",
   "metadata": {
    "application/vnd.databricks.v1+cell": {
     "cellMetadata": {},
     "inputWidgets": {},
     "nuid": "e2670cd2-7293-4211-ac4d-4f916fa81725",
     "showTitle": false,
     "title": ""
    }
   },
   "source": [
    "##### Multi-Lingual ChatBot"
   ]
  },
  {
   "cell_type": "code",
   "execution_count": 0,
   "metadata": {
    "application/vnd.databricks.v1+cell": {
     "cellMetadata": {
      "byteLimit": 2048000,
      "rowLimit": 10000
     },
     "inputWidgets": {},
     "nuid": "8896b9bd-6fb7-45e5-a6fe-8e809d467b52",
     "showTitle": false,
     "title": ""
    }
   },
   "outputs": [],
   "source": [
    "def get_multilingual_responses(question):\n",
    "\n",
    "    prompt_template = \"\"\"You are an assistant for international users. You are answering advicing career guidance based on the  questions asked about the available data.If the question is not related to one of these topics, kindly decline to answer.If you don't know the answer, just say that you don't know, don't try to make up an answer. If the question appears to be for data that you don't have data on, say so.  Keep the answer as concise as possible. \n",
    "\n",
    "    Respond in {detected_language}.\n",
    "    Use the following pieces of context to answer the question at the end: {context}\n",
    "\n",
    "    Question: {question}\n",
    "\n",
    "    STRICT RESPONSE RULES:\n",
    "    1. MUST use ONLY {detected_language} words\n",
    "    2. MUST maintain proper {detected_language} grammar and punctuation\n",
    "    3. Write naturally as a native {detected_language} speaker would write\n",
    "    4. Use proper accent marks and special characters for {detected_language}\n",
    "    5. MUST NOT include ANY English terms (except for technical terms with no {detected_language} equivalent)\n",
    "\n",
    "    Your {detected_language} response:\n",
    "    \"\"\"\n",
    "\n",
    "    # Detect language of the question\n",
    "    detected_language= get_language_name(question)\n",
    "    \n",
    "    #prompt\n",
    "    prompt = PromptTemplate(\n",
    "        template=prompt_template,\n",
    "        input_variables=[\"context\", \"question\"],\n",
    "        partial_variables={\"detected_language\": detected_language}\n",
    "    )\n",
    "\n",
    "    #llm\n",
    "    chat_model = ChatDatabricks(endpoint=\"databricks-dbrx-instruct\", max_tokens = 200)\n",
    "\n",
    "    #chain\n",
    "    qa_chain = RetrievalQA.from_chain_type(\n",
    "        llm=chat_model,\n",
    "        chain_type=\"stuff\",\n",
    "        retriever=get_retriever(),\n",
    "        chain_type_kwargs={\"prompt\": prompt,\"verbose\":False}\n",
    "    )\n",
    "\n",
    "    return qa_chain.run(question)\n"
   ]
  },
  {
   "cell_type": "markdown",
   "metadata": {
    "application/vnd.databricks.v1+cell": {
     "cellMetadata": {},
     "inputWidgets": {},
     "nuid": "40c8b7ad-7564-45d1-bbf9-e55c039fe509",
     "showTitle": false,
     "title": ""
    }
   },
   "source": [
    "### ----- Chat with the bot in multiple languages -----"
   ]
  },
  {
   "cell_type": "code",
   "execution_count": 0,
   "metadata": {
    "application/vnd.databricks.v1+cell": {
     "cellMetadata": {
      "byteLimit": 2048000,
      "rowLimit": 10000
     },
     "inputWidgets": {},
     "nuid": "a6872928-6dde-4266-9b60-ef78233cb6f3",
     "showTitle": false,
     "title": ""
    }
   },
   "outputs": [
    {
     "output_type": "stream",
     "name": "stderr",
     "output_type": "stream",
     "text": [
      "WARNING:langchain_community.vectorstores.databricks_vector_search:embedding model is not used in delta-sync index with Databricks-managed embeddings.\n"
     ]
    },
    {
     "output_type": "stream",
     "name": "stdout",
     "output_type": "stream",
     "text": [
      "\n Based on the data provided, the annual mean wage for Data Scientists is $119,040, while for Database Administrators it is $104,810. Therefore, the pay difference between a Data Scientist and a Database Administrator role is approximately $14,230.\n"
     ]
    }
   ],
   "source": [
    "english_question=\"What is the pay difference between a data scientist and a database administrator role?\"\n",
    "print(\"\\n\", get_multilingual_responses(english_question))"
   ]
  },
  {
   "cell_type": "code",
   "execution_count": 0,
   "metadata": {
    "application/vnd.databricks.v1+cell": {
     "cellMetadata": {
      "byteLimit": 2048000,
      "rowLimit": 10000
     },
     "inputWidgets": {},
     "nuid": "d604a24f-e074-4f4b-adc1-bdecd649fe45",
     "showTitle": false,
     "title": ""
    }
   },
   "outputs": [
    {
     "output_type": "stream",
     "name": "stderr",
     "output_type": "stream",
     "text": [
      "WARNING:langchain_community.vectorstores.databricks_vector_search:embedding model is not used in delta-sync index with Databricks-managed embeddings.\n"
     ]
    },
    {
     "output_type": "stream",
     "name": "stdout",
     "output_type": "stream",
     "text": [
      "\n La diferencia salarial entre un científico de datos y un administrador de base de datos puede variar dependiendo de varios factores, como la ubicación geográfica, el tamaño y la industria de la empresa, y la experiencia y educación del profesional. Sin embargo, según los datos disponibles hasta diciembre de 2023, un científico de datos tiene un salario medio anual de $62,370, mientras que un administrador de base de datos tiene un salario medio anual de $53,790. Es importante tener en cuenta que estos números son solo una estimación y que los salarios reales pueden variar.\n"
     ]
    }
   ],
   "source": [
    "spanish_question=\"¿Cuál es la diferencia salarial entre un científico de datos y un administrador de base de datos?\"\n",
    "print(\"\\n\", get_multilingual_responses(spanish_question))"
   ]
  },
  {
   "cell_type": "code",
   "execution_count": 0,
   "metadata": {
    "application/vnd.databricks.v1+cell": {
     "cellMetadata": {
      "byteLimit": 2048000,
      "rowLimit": 10000
     },
     "inputWidgets": {},
     "nuid": "c56dc09e-b81a-4702-8fd8-2029b23f1fed",
     "showTitle": false,
     "title": ""
    }
   },
   "outputs": [
    {
     "output_type": "stream",
     "name": "stderr",
     "output_type": "stream",
     "text": [
      "WARNING:langchain_community.vectorstores.databricks_vector_search:embedding model is not used in delta-sync index with Databricks-managed embeddings.\n"
     ]
    },
    {
     "output_type": "stream",
     "name": "stdout",
     "output_type": "stream",
     "text": [
      "\n Theo dữ liệu của Cục Thống Kê Lao Động Hoa Kỳ, mức lương trung bình hàng năm của nhà khoa học dữ liệu là 98.000 đô la, trong khi đó, mức lương trung bình hàng năm của quản trị viên cơ sở dữ liệu là 77.000 đô la. Do đó, nhà khoa học dữ liệu thường có mức lương cao hơn so với quản trị viên cơ sở dữ liệu.\n"
     ]
    }
   ],
   "source": [
    "vietnamese_question=\"Sự khác biệt về lương giữa vai trò nhà khoa học dữ liệu và vai trò quản trị viên cơ sở dữ liệu là gì?\"\n",
    "print(\"\\n\", get_multilingual_responses(vietnamese_question))"
   ]
  },
  {
   "cell_type": "code",
   "execution_count": 0,
   "metadata": {
    "application/vnd.databricks.v1+cell": {
     "cellMetadata": {
      "byteLimit": 2048000,
      "rowLimit": 10000
     },
     "inputWidgets": {},
     "nuid": "9f56efa6-65ae-498c-a05a-7702a03dcab6",
     "showTitle": false,
     "title": ""
    }
   },
   "outputs": [
    {
     "output_type": "stream",
     "name": "stderr",
     "output_type": "stream",
     "text": [
      "WARNING:langchain_community.vectorstores.databricks_vector_search:embedding model is not used in delta-sync index with Databricks-managed embeddings.\n"
     ]
    },
    {
     "output_type": "stream",
     "name": "stdout",
     "output_type": "stream",
     "text": [
      "\n To work as a Data Scientist in the US, you would typically need a non-immigrant work visa such as the H-1B visa. This visa is for people in a specified professional or academic field or with special expertise who have a college degree or higher or the equivalent in work experience. The job should qualify as a specialty occupation, generally requiring a bachelor’s degree or higher. Your employer must show that there is a lack of qualified U.S. applicants for the role. Please note that the process involves a multi-step process, including finding H-1B sponsorship, filing a labor condition application, and submitting a petition to USCIS.\n"
     ]
    }
   ],
   "source": [
    "question=\"What visa do I need to enter US for a Data Scientist job?\"\n",
    "print(\"\\n\",get_multilingual_responses(question))"
   ]
  },
  {
   "cell_type": "code",
   "execution_count": 0,
   "metadata": {
    "application/vnd.databricks.v1+cell": {
     "cellMetadata": {
      "byteLimit": 2048000,
      "rowLimit": 10000
     },
     "inputWidgets": {},
     "nuid": "96f0ae48-6232-4ec4-9d69-d1c5899f3155",
     "showTitle": false,
     "title": ""
    }
   },
   "outputs": [
    {
     "output_type": "stream",
     "name": "stderr",
     "output_type": "stream",
     "text": [
      "WARNING:langchain_community.vectorstores.databricks_vector_search:embedding model is not used in delta-sync index with Databricks-managed embeddings.\n"
     ]
    },
    {
     "output_type": "stream",
     "name": "stdout",
     "output_type": "stream",
     "text": [
      "\n Based on the data provided, the state with the highest employment for data scientists is California, with 119,040 jobs and an annual mean wage of $119,040. This could be a good place for your husband to pursue a job in data science. As for your future job prospects in the same field, the data shows that there are 192,710 data scientists employed in the US with an annual mean wage of $119,040. This indicates that there are opportunities available for you as well.\n\nAs for visa options, if your husband is offered a job in the US, his employer can sponsor him for a temporary non-immigrant visa such as the H-1B visa. This visa is for workers in specialty occupations, which includes data science. As his spouse, you would be eligible for an H-4 visa, which allows you to live and work in the US. However, you would need to apply for an Employment Authorization Document (EAD) to be able to work\n"
     ]
    }
   ],
   "source": [
    "question =  \"My husband wants to pursue a job in Data Science. Which state in US is the best place for him? If he gets the job, what are my future job prospectives in the US in the same field. What are the visa options i need to pursue? \"\n",
    "print(\"\\n\", get_multilingual_responses(question))"
   ]
  }
 ],
 "metadata": {
  "application/vnd.databricks.v1+notebook": {
   "dashboards": [],
   "environmentMetadata": {
    "base_environment": "",
    "client": "1"
   },
   "language": "python",
   "notebookMetadata": {
    "pythonIndentUnit": 4
   },
   "notebookName": "US Immigration & Career Coach",
   "widgets": {}
  }
 },
 "nbformat": 4,
 "nbformat_minor": 0
}
